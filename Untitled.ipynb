{
 "cells": [
  {
   "cell_type": "code",
   "execution_count": 2,
   "metadata": {
    "collapsed": true
   },
   "outputs": [],
   "source": [
    "from utils import load_data\n",
    "import numpy as np\n",
    "\n",
    "from matplotlib import pyplot as plt\n",
    "plt.style.use('ggplot')"
   ]
  },
  {
   "cell_type": "code",
   "execution_count": 3,
   "metadata": {
    "collapsed": true
   },
   "outputs": [],
   "source": [
    "adj, features, y_train, y_val, y_test, train_mask, val_mask, test_mask = load_data('cora')\n",
    "adj = np.array(adj.todense())"
   ]
  },
  {
   "cell_type": "code",
   "execution_count": 15,
   "metadata": {
    "collapsed": true
   },
   "outputs": [],
   "source": [
    "def bfs(adj, start_node):\n",
    "    queue = [start_node]\n",
    "    cluster = np.full(shape=adj.shape[0], fill_value=False, dtype=np.bool)\n",
    "\n",
    "    while len(queue) != 0:\n",
    "        current_node = queue.pop()\n",
    "        if cluster[current_node]:\n",
    "            continue\n",
    "        cluster[current_node] = True\n",
    "        neighbours = np.argwhere(adj[current_node] == 1)[:,0]\n",
    "        for n in neighbours:\n",
    "            if not(cluster[n]):\n",
    "                queue.append(n)\n",
    "    return cluster"
   ]
  },
  {
   "cell_type": "code",
   "execution_count": 25,
   "metadata": {
    "collapsed": false,
    "scrolled": true
   },
   "outputs": [
    {
     "name": "stdout",
     "output_type": "stream",
     "text": [
      "2485\n",
      "[   0    1    2 ... 2702 2706 2707]\n",
      "2\n",
      "[   3 2544]\n",
      "2\n",
      "[  7 208]\n",
      "5\n",
      "[  12 1001 1318 2661 2662]\n",
      "26\n",
      "[  23   92  108  144  145  213  495  537  898 1165 1327 1328 1504 1593\n",
      " 1647 1698 1835 1836 2157 2158 2159 2160 2161 2192 2209 2622]\n",
      "8\n",
      "[  26   99  122  123  127 2454 2455 2604]\n",
      "2\n",
      "[  31 1594]\n",
      "4\n",
      "[  44 1582 2624 2701]\n",
      "2\n",
      "[  66 2631]\n",
      "9\n",
      "[  75   84  284  583 2222 2223 2224 2225 2226]\n",
      "2\n",
      "[ 106 2461]\n",
      "3\n",
      "[ 117  259 2537]\n",
      "6\n",
      "[ 167  168 1056 2437 2438 2482]\n",
      "2\n",
      "[184 520]\n",
      "2\n",
      "[ 187 1208]\n",
      "3\n",
      "[ 200 1439 2676]\n",
      "2\n",
      "[222 821]\n",
      "2\n",
      "[ 225 2255]\n",
      "2\n",
      "[ 247 2583]\n",
      "2\n",
      "[ 250 2429]\n",
      "2\n",
      "[ 287 2705]\n",
      "3\n",
      "[ 292 1036 2562]\n",
      "2\n",
      "[307 991]\n",
      "4\n",
      "[ 369  385 2483 2484]\n",
      "4\n",
      "[ 380  477  930 2569]\n",
      "2\n",
      "[ 390 1108]\n",
      "3\n",
      "[ 404 1170 1476]\n",
      "2\n",
      "[422 545]\n",
      "3\n",
      "[ 431 2694 2695]\n",
      "2\n",
      "[ 462 1048]\n",
      "2\n",
      "[ 474 1181]\n",
      "2\n",
      "[ 538 1286]\n",
      "4\n",
      "[ 560  585  774 2526]\n",
      "2\n",
      "[ 587 1032]\n",
      "2\n",
      "[ 592 2669]\n",
      "2\n",
      "[ 611 2690]\n",
      "2\n",
      "[ 625 1024]\n",
      "5\n",
      "[ 635 1378 1544 2058 2150]\n",
      "2\n",
      "[ 641 2704]\n",
      "2\n",
      "[ 653 1231]\n",
      "2\n",
      "[662 932]\n",
      "3\n",
      "[ 677  954 1112]\n",
      "2\n",
      "[ 692 2629]\n",
      "2\n",
      "[ 700 1691]\n",
      "2\n",
      "[ 713 1044]\n",
      "2\n",
      "[ 721 1034]\n",
      "2\n",
      "[ 780 2341]\n",
      "2\n",
      "[786 947]\n",
      "2\n",
      "[ 832 2600]\n",
      "2\n",
      "[ 917 2639]\n",
      "3\n",
      "[ 939 2173 2174]\n",
      "4\n",
      "[ 953 2565 2566 2567]\n",
      "2\n",
      "[ 959 2529]\n",
      "2\n",
      "[ 967 2659]\n",
      "2\n",
      "[ 974 1496]\n",
      "2\n",
      "[ 986 2697]\n",
      "2\n",
      "[1005 1541]\n",
      "2\n",
      "[1059 1600]\n",
      "2\n",
      "[1210 1648]\n",
      "2\n",
      "[1233 2433]\n",
      "2\n",
      "[1236 2479]\n",
      "2\n",
      "[1263 1407]\n",
      "2\n",
      "[1298 2703]\n",
      "2\n",
      "[1310 2692]\n",
      "2\n",
      "[1356 1613]\n",
      "2\n",
      "[1371 1393]\n",
      "2\n",
      "[1375 2586]\n",
      "2\n",
      "[1438 2664]\n",
      "5\n",
      "[1554 1657 2686 2687 2688]\n",
      "2\n",
      "[1563 2633]\n",
      "2\n",
      "[1673 2660]\n",
      "2\n",
      "[2410 2411]\n",
      "2\n",
      "[2431 2432]\n",
      "2\n",
      "[2602 2603]\n",
      "2\n",
      "[2618 2619]\n",
      "2\n",
      "[2625 2626]\n",
      "4\n",
      "[2634 2635 2636 2693]\n",
      "2\n",
      "[2665 2666]\n"
     ]
    }
   ],
   "source": [
    "visited = np.full(shape=adj.shape[0], fill_value=False, dtype=np.bool)\n",
    "\n",
    "clusters = []\n",
    "while(np.any(visited == False)):\n",
    "    next_node = np.argwhere(visited == False)[0,0]\n",
    "    cluster = np.argwhere(bfs(adj, next_node))[:, 0]\n",
    "    print(len(cluster))\n",
    "    print(cluster)\n",
    "    clusters.append(cluster)\n",
    "    visited[cluster] = True"
   ]
  },
  {
   "cell_type": "code",
   "execution_count": 18,
   "metadata": {
    "collapsed": false
   },
   "outputs": [
    {
     "name": "stdout",
     "output_type": "stream",
     "text": [
      "78\n"
     ]
    }
   ],
   "source": [
    "print(len(clusters))"
   ]
  },
  {
   "cell_type": "code",
   "execution_count": 27,
   "metadata": {
    "collapsed": false
   },
   "outputs": [],
   "source": [
    "#number of clusters containing at least one training node\n",
    "contains_training_node = np.full(shape=len(clusters), fill_value=False, dtype=np.bool)\n",
    "train_nodes = np.argwhere(train_mask == 1)[:, 0]\n",
    "for train_node in train_nodes:\n",
    "    cluster_id = None\n",
    "    for i, cluster in enumerate(clusters):\n",
    "        if train_node in cluster:\n",
    "            cluster_id = i\n",
    "    assert(cluster_id != None)\n",
    "    contains_training_node[cluster_id] = True"
   ]
  },
  {
   "cell_type": "code",
   "execution_count": 29,
   "metadata": {
    "collapsed": false
   },
   "outputs": [
    {
     "name": "stdout",
     "output_type": "stream",
     "text": [
      "[ 0  1  2  3  4  5  6  7  8  9 10 11]\n"
     ]
    }
   ],
   "source": [
    "clusters_with_train_node = np.argwhere(contains_training_node)[:, 0]\n",
    "print(clusters_with_train_node)"
   ]
  },
  {
   "cell_type": "code",
   "execution_count": 31,
   "metadata": {
    "collapsed": false
   },
   "outputs": [
    {
     "name": "stdout",
     "output_type": "stream",
     "text": [
      "2550\n"
     ]
    }
   ],
   "source": [
    "#number of nodes in clusters containing at least one training example\n",
    "sum = 0\n",
    "for c_id in clusters_with_train_node:\n",
    "        sum += len(clusters[c_id])\n",
    "print(sum)"
   ]
  },
  {
   "cell_type": "code",
   "execution_count": 33,
   "metadata": {
    "collapsed": false
   },
   "outputs": [
    {
     "name": "stdout",
     "output_type": "stream",
     "text": [
      "1000\n"
     ]
    }
   ],
   "source": [
    "test_nodes = np.argwhere(test_mask == 1)[:, 0]\n",
    "num_test_nodes_in_clusters_with_training_node = 0\n",
    "for t_id in test_nodes:\n",
    "    for cluster in clusters:\n",
    "        if t_id in cluster:\n",
    "            num_test_nodes_in_clusters_with_training_node += 1\n",
    "            break\n",
    "print(num_test_nodes_in_clusters_with_training_node)"
   ]
  },
  {
   "cell_type": "code",
   "execution_count": 41,
   "metadata": {
    "collapsed": false
   },
   "outputs": [
    {
     "name": "stdout",
     "output_type": "stream",
     "text": [
      "[[19, 20, 20, 18, 16, 19, 10], [1, 0, 0, 0, 0, 0, 0], [0, 0, 0, 1, 0, 0, 0], [0, 0, 0, 0, 1, 0, 0], [0, 0, 0, 0, 0, 0, 3], [0, 0, 0, 0, 0, 0, 5], [0, 0, 0, 0, 0, 0, 1], [0, 0, 0, 1, 0, 0, 0], [0, 0, 0, 0, 1, 0, 0], [0, 0, 0, 0, 2, 0, 0], [0, 0, 0, 0, 0, 0, 1], [0, 0, 0, 0, 0, 1, 0], [0, 0, 0, 0, 0, 0, 0], [0, 0, 0, 0, 0, 0, 0], [0, 0, 0, 0, 0, 0, 0], [0, 0, 0, 0, 0, 0, 0], [0, 0, 0, 0, 0, 0, 0], [0, 0, 0, 0, 0, 0, 0], [0, 0, 0, 0, 0, 0, 0], [0, 0, 0, 0, 0, 0, 0], [0, 0, 0, 0, 0, 0, 0], [0, 0, 0, 0, 0, 0, 0], [0, 0, 0, 0, 0, 0, 0], [0, 0, 0, 0, 0, 0, 0], [0, 0, 0, 0, 0, 0, 0], [0, 0, 0, 0, 0, 0, 0], [0, 0, 0, 0, 0, 0, 0], [0, 0, 0, 0, 0, 0, 0], [0, 0, 0, 0, 0, 0, 0], [0, 0, 0, 0, 0, 0, 0], [0, 0, 0, 0, 0, 0, 0], [0, 0, 0, 0, 0, 0, 0], [0, 0, 0, 0, 0, 0, 0], [0, 0, 0, 0, 0, 0, 0], [0, 0, 0, 0, 0, 0, 0], [0, 0, 0, 0, 0, 0, 0], [0, 0, 0, 0, 0, 0, 0], [0, 0, 0, 0, 0, 0, 0], [0, 0, 0, 0, 0, 0, 0], [0, 0, 0, 0, 0, 0, 0], [0, 0, 0, 0, 0, 0, 0], [0, 0, 0, 0, 0, 0, 0], [0, 0, 0, 0, 0, 0, 0], [0, 0, 0, 0, 0, 0, 0], [0, 0, 0, 0, 0, 0, 0], [0, 0, 0, 0, 0, 0, 0], [0, 0, 0, 0, 0, 0, 0], [0, 0, 0, 0, 0, 0, 0], [0, 0, 0, 0, 0, 0, 0], [0, 0, 0, 0, 0, 0, 0], [0, 0, 0, 0, 0, 0, 0], [0, 0, 0, 0, 0, 0, 0], [0, 0, 0, 0, 0, 0, 0], [0, 0, 0, 0, 0, 0, 0], [0, 0, 0, 0, 0, 0, 0], [0, 0, 0, 0, 0, 0, 0], [0, 0, 0, 0, 0, 0, 0], [0, 0, 0, 0, 0, 0, 0], [0, 0, 0, 0, 0, 0, 0], [0, 0, 0, 0, 0, 0, 0], [0, 0, 0, 0, 0, 0, 0], [0, 0, 0, 0, 0, 0, 0], [0, 0, 0, 0, 0, 0, 0], [0, 0, 0, 0, 0, 0, 0], [0, 0, 0, 0, 0, 0, 0], [0, 0, 0, 0, 0, 0, 0], [0, 0, 0, 0, 0, 0, 0], [0, 0, 0, 0, 0, 0, 0], [0, 0, 0, 0, 0, 0, 0], [0, 0, 0, 0, 0, 0, 0], [0, 0, 0, 0, 0, 0, 0], [0, 0, 0, 0, 0, 0, 0], [0, 0, 0, 0, 0, 0, 0], [0, 0, 0, 0, 0, 0, 0], [0, 0, 0, 0, 0, 0, 0], [0, 0, 0, 0, 0, 0, 0], [0, 0, 0, 0, 0, 0, 0], [0, 0, 0, 0, 0, 0, 0]]\n"
     ]
    }
   ],
   "source": [
    "cluster_classes_distribution = [[0,0,0,0,0,0,0] for cluster in clusters]\n",
    "for train_id in train_nodes:\n",
    "    for c_id, cluster in enumerate(clusters):\n",
    "        if train_id in cluster:\n",
    "            label = np.argmax(y_train[train_id])\n",
    "            cluster_classes_distribution[c_id][label] += 1\n",
    "print(cluster_classes_distribution)"
   ]
  },
  {
   "cell_type": "code",
   "execution_count": 43,
   "metadata": {
    "collapsed": false
   },
   "outputs": [],
   "source": [
    "#assign class to each cluster\n",
    "cluster_classes = []\n",
    "for cluster_class_distribution in cluster_classes_distribution:\n",
    "    max_classes = np.argmax(cluster_class_distribution)\n",
    "    cluster_classes.append(max_classes)"
   ]
  },
  {
   "cell_type": "code",
   "execution_count": 44,
   "metadata": {
    "collapsed": false
   },
   "outputs": [
    {
     "name": "stdout",
     "output_type": "stream",
     "text": [
      "[1, 0, 3, 4, 6, 6, 6, 3, 4, 4, 6, 5, 0, 0, 0, 0, 0, 0, 0, 0, 0, 0, 0, 0, 0, 0, 0, 0, 0, 0, 0, 0, 0, 0, 0, 0, 0, 0, 0, 0, 0, 0, 0, 0, 0, 0, 0, 0, 0, 0, 0, 0, 0, 0, 0, 0, 0, 0, 0, 0, 0, 0, 0, 0, 0, 0, 0, 0, 0, 0, 0, 0, 0, 0, 0, 0, 0, 0]\n"
     ]
    }
   ],
   "source": [
    "print(cluster_classes)"
   ]
  },
  {
   "cell_type": "code",
   "execution_count": 46,
   "metadata": {
    "collapsed": false
   },
   "outputs": [
    {
     "name": "stdout",
     "output_type": "stream",
     "text": [
      "1000\n",
      "[1, 1, 1, 1, 1, 1, 1, 1, 1, 1, 1, 1, 1, 1, 1, 1, 1, 1, 1, 1, 1, 1, 1, 1, 1, 1, 1, 1, 1, 1, 1, 1, 1, 1, 1, 1, 1, 1, 1, 1, 1, 1, 1, 1, 1, 1, 1, 1, 1, 1, 1, 1, 1, 1, 1, 1, 1, 1, 1, 1, 1, 1, 1, 1, 1, 1, 1, 1, 1, 1, 1, 1, 1, 1, 1, 1, 1, 1, 1, 1, 1, 1, 1, 1, 1, 1, 1, 1, 1, 1, 1, 1, 1, 1, 1, 1, 1, 1, 1, 1, 1, 1, 1, 1, 1, 1, 1, 1, 1, 1, 1, 1, 1, 1, 1, 1, 1, 1, 1, 1, 1, 1, 1, 1, 1, 1, 1, 6, 6, 1, 1, 1, 1, 1, 1, 1, 1, 1, 1, 1, 1, 1, 1, 1, 1, 1, 1, 1, 1, 1, 1, 1, 1, 1, 1, 1, 1, 1, 1, 1, 1, 1, 1, 1, 1, 1, 1, 1, 1, 1, 1, 1, 1, 1, 1, 1, 1, 1, 1, 1, 1, 1, 1, 1, 1, 1, 1, 1, 1, 1, 1, 1, 1, 1, 1, 1, 1, 1, 1, 1, 1, 1, 1, 1, 1, 1, 1, 1, 1, 1, 1, 1, 1, 1, 1, 1, 1, 1, 1, 1, 1, 1, 1, 1, 1, 1, 1, 1, 1, 1, 1, 1, 1, 1, 1, 1, 1, 1, 1, 1, 1, 1, 1, 1, 1, 1, 1, 1, 1, 1, 1, 1, 1, 1, 1, 1, 1, 1, 1, 1, 1, 1, 1, 1, 1, 1, 1, 1, 1, 1, 1, 1, 1, 1, 1, 1, 1, 1, 1, 1, 1, 1, 1, 1, 1, 1, 1, 1, 1, 1, 1, 1, 1, 1, 1, 1, 1, 1, 1, 1, 1, 1, 1, 1, 1, 1, 1, 1, 1, 1, 1, 1, 1, 1, 1, 1, 1, 1, 1, 1, 1, 1, 1, 1, 1, 1, 1, 1, 1, 1, 1, 1, 1, 1, 1, 1, 1, 1, 1, 1, 1, 1, 1, 1, 1, 1, 1, 1, 1, 1, 0, 1, 1, 1, 1, 1, 1, 1, 1, 1, 1, 1, 1, 1, 1, 1, 1, 1, 1, 1, 1, 1, 1, 1, 1, 1, 1, 1, 1, 1, 1, 1, 1, 1, 1, 1, 1, 1, 1, 1, 1, 1, 1, 1, 1, 1, 1, 1, 1, 1, 1, 1, 1, 1, 1, 1, 1, 1, 1, 1, 1, 1, 1, 1, 1, 1, 1, 1, 1, 1, 1, 1, 1, 1, 1, 1, 1, 1, 1, 1, 1, 1, 1, 1, 1, 1, 1, 1, 1, 1, 1, 1, 0, 1, 1, 1, 1, 1, 1, 6, 6, 6, 6, 6, 1, 1, 1, 1, 1, 1, 1, 1, 1, 1, 1, 0, 0, 1, 1, 1, 1, 1, 1, 1, 1, 1, 1, 1, 1, 1, 1, 1, 1, 1, 6, 1, 1, 1, 1, 1, 1, 1, 1, 1, 1, 1, 1, 1, 1, 1, 1, 6, 1, 1, 1, 1, 1, 1, 1, 1, 1, 1, 1, 1, 4, 4, 4, 4, 4, 1, 1, 1, 1, 1, 1, 1, 1, 1, 1, 1, 1, 1, 1, 1, 1, 1, 1, 1, 1, 1, 1, 1, 1, 1, 1, 1, 1, 0, 1, 1, 1, 1, 1, 1, 1, 1, 1, 1, 1, 1, 1, 1, 1, 1, 1, 1, 1, 1, 1, 1, 1, 1, 1, 1, 1, 1, 1, 1, 1, 1, 1, 1, 1, 1, 1, 1, 1, 1, 1, 1, 1, 1, 1, 1, 1, 1, 1, 1, 1, 1, 1, 1, 1, 1, 1, 1, 1, 1, 1, 1, 1, 1, 1, 1, 1, 1, 1, 1, 1, 1, 1, 1, 1, 1, 1, 1, 1, 1, 1, 1, 1, 1, 1, 0, 1, 1, 1, 1, 1, 1, 1, 1, 1, 1, 1, 1, 1, 1, 1, 1, 1, 1, 1, 1, 1, 1, 1, 1, 1, 1, 1, 1, 1, 1, 1, 1, 1, 1, 1, 1, 1, 1, 1, 1, 1, 1, 1, 1, 1, 1, 1, 1, 1, 1, 1, 1, 1, 1, 1, 1, 1, 1, 1, 1, 1, 1, 1, 1, 1, 1, 1, 1, 0, 0, 1, 1, 1, 1, 1, 1, 1, 1, 1, 1, 1, 1, 1, 1, 1, 1, 1, 0, 1, 0, 0, 0, 1, 1, 1, 0, 0, 1, 1, 1, 1, 1, 1, 1, 1, 1, 1, 1, 1, 1, 1, 1, 6, 6, 1, 1, 1, 1, 1, 6, 1, 1, 1, 1, 1, 1, 1, 1, 1, 1, 1, 1, 1, 1, 1, 1, 1, 0, 1, 1, 0, 0, 0, 1, 1, 1, 1, 1, 1, 1, 1, 1, 1, 1, 1, 1, 1, 1, 1, 1, 1, 1, 1, 1, 1, 1, 1, 1, 1, 1, 1, 1, 1, 1, 1, 1, 1, 1, 1, 1, 1, 1, 1, 1, 0, 1, 1, 0, 1, 1, 1, 1, 1, 1, 1, 5, 1, 1, 1, 1, 1, 1, 0, 1, 1, 1, 1, 1, 1, 1, 1, 1, 1, 1, 1, 1, 1, 1, 1, 1, 0, 1, 1, 0, 0, 0, 1, 0, 1, 1, 1, 1, 1, 1, 1, 1, 1, 1, 1, 1, 1, 0, 1, 1, 0, 1, 1, 1, 1, 1, 1, 1, 1, 1, 1, 1, 1, 1, 0, 1, 0, 0, 6, 1, 1, 1, 1, 1, 1, 1, 1, 1, 1, 1, 1, 1, 0, 0, 1, 1, 6, 1, 3, 0, 0, 1, 1, 0, 1, 4, 1, 0, 0, 0, 0, 1, 1, 0, 1, 1, 1, 1, 1, 1, 1, 1, 1, 1, 1, 1, 1, 1, 1, 1, 1, 1, 1, 0, 0, 4, 4, 1, 0, 0, 0, 1, 1, 0, 1, 1, 1, 1, 1, 1, 0, 1, 1, 1, 1, 1, 1, 1, 1, 1, 0, 0, 0, 1, 0, 1, 0, 0, 0, 0, 1, 0, 1, 1, 1, 3, 1, 0, 0, 0, 1, 1]\n"
     ]
    }
   ],
   "source": [
    "predictions = []\n",
    "for test_id in test_nodes:\n",
    "    for c_id, cluster in enumerate(clusters):\n",
    "        if test_id in cluster:\n",
    "            predictions.append(cluster_classes[c_id])\n",
    "print(len(predictions))\n",
    "print(predictions)"
   ]
  },
  {
   "cell_type": "code",
   "execution_count": 54,
   "metadata": {
    "collapsed": false
   },
   "outputs": [
    {
     "name": "stdout",
     "output_type": "stream",
     "text": [
      "0.117\n"
     ]
    }
   ],
   "source": [
    "ys = np.argmax(y_test[test_mask], axis=-1)\n",
    "accuracy = len(np.argwhere(ys == predictions)) / len(ys)\n",
    "print(accuracy)"
   ]
  },
  {
   "cell_type": "code",
   "execution_count": null,
   "metadata": {
    "collapsed": true
   },
   "outputs": [],
   "source": []
  }
 ],
 "metadata": {
  "kernelspec": {
   "display_name": "Python [conda env:python3]",
   "language": "python",
   "name": "conda-env-python3-py"
  },
  "language_info": {
   "codemirror_mode": {
    "name": "ipython",
    "version": 3
   },
   "file_extension": ".py",
   "mimetype": "text/x-python",
   "name": "python",
   "nbconvert_exporter": "python",
   "pygments_lexer": "ipython3",
   "version": "3.5.4"
  },
  "toc": {
   "nav_menu": {},
   "number_sections": true,
   "sideBar": true,
   "skip_h1_title": false,
   "toc_cell": false,
   "toc_position": {},
   "toc_section_display": "block",
   "toc_window_display": false
  }
 },
 "nbformat": 4,
 "nbformat_minor": 1
}
