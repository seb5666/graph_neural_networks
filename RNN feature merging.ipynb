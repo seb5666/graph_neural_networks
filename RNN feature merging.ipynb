{
 "cells": [
  {
   "cell_type": "code",
   "execution_count": 146,
   "metadata": {},
   "outputs": [],
   "source": [
    "from utils import load_data\n",
    "\n",
    "from matplotlib import pyplot as plt\n",
    "plt.style.use('ggplot')\n",
    "from mpl_toolkits.mplot3d import Axes3D\n",
    "\n",
    "import numpy as np\n",
    "\n",
    "from keras.layers import Input, RNN, SimpleRNN, LSTM, concatenate, Dense\n",
    "from keras.models import Model\n",
    "\n",
    "from keras.preprocessing.sequence import pad_sequences"
   ]
  },
  {
   "cell_type": "code",
   "execution_count": 65,
   "metadata": {},
   "outputs": [
    {
     "name": "stdout",
     "output_type": "stream",
     "text": [
      "Total number of nodes: 2708\n",
      "Training nodes: 140\n",
      "Validation nodes: 500\n",
      "Test nodes: 1000\n",
      "Num nodes: 2708\n",
      "num_features: 1433\n"
     ]
    }
   ],
   "source": [
    "dataset = 'cora'\n",
    "\n",
    "adj, features, y_train, y_val, y_test, train_mask, val_mask, test_mask = load_data(dataset)\n",
    "num_nodes = adj.shape[0]\n",
    "num_features = features.shape[1]\n",
    "num_classes = y_train.shape[1]\n",
    "\n",
    "print(\"Total number of nodes: {}\".format(adj.shape[0]))\n",
    "print(\"Training nodes: {}\".format(len(np.argwhere(y_train == True))))\n",
    "print(\"Validation nodes: {}\".format(len(np.argwhere(y_val == True))))\n",
    "print(\"Test nodes: {}\".format(len(np.argwhere(y_test == True))))\n",
    "print(\"Num nodes: {}\".format(num_nodes))\n",
    "print(\"num_features: {}\".format(num_features))\n",
    "\n",
    "adj = np.array(adj.todense())\n",
    "features = np.array(features.todense())"
   ]
  },
  {
   "cell_type": "code",
   "execution_count": null,
   "metadata": {},
   "outputs": [],
   "source": []
  },
  {
   "cell_type": "raw",
   "metadata": {},
   "source": [
    "#get neighbouring features\n",
    "neighbour_features = []\n",
    "print(num_nodes)\n",
    "for i in range(num_nodes):\n",
    "    neighbour_features.append([])\n",
    "    for j in range(num_nodes):\n",
    "        if adj[i][j] == 1:\n",
    "            neighbour_features[i].append(features[j])\n",
    "print(len(neighbour_features[0]))"
   ]
  },
  {
   "cell_type": "code",
   "execution_count": 149,
   "metadata": {
    "scrolled": true
   },
   "outputs": [
    {
     "name": "stdout",
     "output_type": "stream",
     "text": [
      "(2708, 168, 1433)\n"
     ]
    }
   ],
   "source": [
    "neighbour_features = pad_sequences(neighbour_features)\n",
    "print(neighbour_features.shape)"
   ]
  },
  {
   "cell_type": "code",
   "execution_count": 157,
   "metadata": {},
   "outputs": [
    {
     "name": "stdout",
     "output_type": "stream",
     "text": [
      "(?, 1433)\n",
      "(?, 128)\n"
     ]
    }
   ],
   "source": [
    "max_length = neighbour_features.shape[1]\n",
    "rnn_units = 128\n",
    "hidden_units = [32, 32]\n",
    "\n",
    "neighbour_features_input = Input(shape=(max_length, num_features), name='neighbour_features')\n",
    "node_features_input = Input(shape=(num_features,), name='node_features')\n",
    "\n",
    "encoder_outputs = SimpleRNN(units=rnn_units)(neighbour_features_input)\n",
    "print(node_features_input.shape)\n",
    "print(encoder_outputs.shape)\n",
    "merged = concatenate([encoder_outputs, encoder_outputs])\n",
    "\n",
    "x_1 = Dense(hidden_units[0], activation='relu')(merged)\n",
    "predictions = Dense(num_classes, activation='softmax')(x_1)\n",
    "\n",
    "model = Model(inputs=[neighbour_features_input,node_features_input], outputs = predictions)"
   ]
  },
  {
   "cell_type": "code",
   "execution_count": 158,
   "metadata": {},
   "outputs": [
    {
     "name": "stdout",
     "output_type": "stream",
     "text": [
      "(2708, 7)\n"
     ]
    }
   ],
   "source": [
    "output = model.predict([neighbour_features, features])\n",
    "print(output.shape)"
   ]
  },
  {
   "cell_type": "code",
   "execution_count": null,
   "metadata": {},
   "outputs": [],
   "source": []
  },
  {
   "cell_type": "code",
   "execution_count": null,
   "metadata": {},
   "outputs": [],
   "source": []
  }
 ],
 "metadata": {
  "kernelspec": {
   "display_name": "Python 3",
   "language": "python",
   "name": "python3"
  },
  "language_info": {
   "codemirror_mode": {
    "name": "ipython",
    "version": 3
   },
   "file_extension": ".py",
   "mimetype": "text/x-python",
   "name": "python",
   "nbconvert_exporter": "python",
   "pygments_lexer": "ipython3",
   "version": "3.5.4"
  },
  "toc": {
   "nav_menu": {},
   "number_sections": true,
   "sideBar": true,
   "skip_h1_title": false,
   "toc_cell": false,
   "toc_position": {},
   "toc_section_display": "block",
   "toc_window_display": false
  }
 },
 "nbformat": 4,
 "nbformat_minor": 2
}
