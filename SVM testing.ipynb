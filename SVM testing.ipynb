{
 "cells": [
  {
   "cell_type": "code",
   "execution_count": 1,
   "metadata": {
    "collapsed": false
   },
   "outputs": [],
   "source": [
    "from utils import load_data\n",
    "\n",
    "from matplotlib import pyplot as plt\n",
    "import numpy as np\n",
    "from sklearn.svm import SVC\n",
    "from sklearn.model_selection import GridSearchCV"
   ]
  },
  {
   "cell_type": "code",
   "execution_count": 17,
   "metadata": {
    "collapsed": false
   },
   "outputs": [
    {
     "name": "stdout",
     "output_type": "stream",
     "text": [
      "Total number of nodes: 2708\n",
      "Training nodes: 140\n",
      "Validation nodes: 500\n",
      "Test nodes: 1000\n",
      "Num nodes: 2708\n",
      "num_features: 1433\n"
     ]
    }
   ],
   "source": [
    "dataset = 'cora'\n",
    "\n",
    "adj, features, y_train, y_val, y_test, train_mask, val_mask, test_mask = load_data(dataset)\n",
    "num_nodes = adj.shape[0]\n",
    "num_features = features.shape[1]\n",
    "num_classes = y_train.shape[1]\n",
    "\n",
    "print(\"Total number of nodes: {}\".format(adj.shape[0]))\n",
    "print(\"Training nodes: {}\".format(len(np.argwhere(y_train == True))))\n",
    "print(\"Validation nodes: {}\".format(len(np.argwhere(y_val == True))))\n",
    "print(\"Test nodes: {}\".format(len(np.argwhere(y_test == True))))\n",
    "print(\"Num nodes: {}\".format(num_nodes))\n",
    "print(\"num_features: {}\".format(num_features))\n",
    "\n",
    "adj = np.array(adj.todense())"
   ]
  },
  {
   "cell_type": "code",
   "execution_count": 3,
   "metadata": {
    "collapsed": true
   },
   "outputs": [],
   "source": [
    "# Compute the mean of all neighbouring features for the given node\n",
    "def neighbouring_features(node):\n",
    "    neighbours = adj[node]\n",
    "    neighbour_indices = np.argwhere(neighbours == 1)[:, 0]\n",
    "    neighbour_features = features[neighbour_indices]\n",
    "    return np.mean(neighbour_features, axis=0)[0]\n",
    "\n",
    "\n",
    "def compute_neighbouring_features():\n",
    "    f = []\n",
    "    for i in range(num_nodes):\n",
    "        f.append(neighbouring_features(i))\n",
    "    # f = [neighbouring_features(i) for i in range(num_nodes)]\n",
    "    return np.array(f)"
   ]
  },
  {
   "cell_type": "code",
   "execution_count": 4,
   "metadata": {
    "collapsed": false
   },
   "outputs": [
    {
     "name": "stdout",
     "output_type": "stream",
     "text": [
      "(2708, 1, 1433)\n",
      "CPU times: user 16.7 s, sys: 34.8 ms, total: 16.7 s\n",
      "Wall time: 16.7 s\n"
     ]
    }
   ],
   "source": [
    "%%time\n",
    "f = compute_neighbouring_features()\n",
    "print(f.shape)"
   ]
  },
  {
   "cell_type": "code",
   "execution_count": 5,
   "metadata": {
    "collapsed": false
   },
   "outputs": [],
   "source": [
    "f = f.reshape(-1, num_features)\n",
    "dense_features = np.array(features.todense())\n",
    "\n",
    "merged_features = np.concatenate([f, dense_features], axis=-1)"
   ]
  },
  {
   "cell_type": "markdown",
   "metadata": {},
   "source": [
    "## SVM using node features alone"
   ]
  },
  {
   "cell_type": "code",
   "execution_count": 28,
   "metadata": {
    "collapsed": false
   },
   "outputs": [
    {
     "name": "stdout",
     "output_type": "stream",
     "text": [
      "(1000, 1433)\n"
     ]
    }
   ],
   "source": [
    "X_train_1 = dense_features[train_mask]\n",
    "y_train_1 = np.argmax(y_train[train_mask], axis=-1)\n",
    "\n",
    "X_val_1 = dense_features[val_mask]\n",
    "y_val_1 = np.argmax(y_val[val_mask], axis=-1)\n",
    "\n",
    "X_test_1 = dense_features[test_mask]\n",
    "y_test_1 = np.argmax(y_test[test_mask], axis=-1)\n",
    "print(X_test_1.shape)"
   ]
  },
  {
   "cell_type": "code",
   "execution_count": null,
   "metadata": {
    "collapsed": false
   },
   "outputs": [],
   "source": [
    "kernel = 'rbf'\n",
    "\n",
    "best_val_acc = 0\n",
    "val_accs= []\n",
    "\n",
    "C_grid = np.logspace(-5, -15, num=21, base=2)\n",
    "γ_grid = np.logspace(-15, 3, num=19, base=2)\n",
    "# γ_grid = ['auto']\n",
    "\n",
    "for C in C_grid:\n",
    "    for γ in γ_grid:\n",
    "        clf = SVC(kernel=kernel, C=C, gamma=γ)\n",
    "        clf.fit(X_train_1, y_train_1)\n",
    "        val_predictions = clf.predict(X_val_1)\n",
    "        val_acc = len(np.argwhere(val_predictions == y_val_1)) / len(val_predictions)\n",
    "        val_accs.append(val_acc)\n",
    "        if val_acc > best_val_acc:\n",
    "            best_val_acc = val_acc\n",
    "            best_C = C\n",
    "            best_γ = γ\n",
    "\n",
    "print(\"Kernel:\", kernel)\n",
    "print(\"Best C:\", best_C)\n",
    "print(\"Best γ:\", best_γ)\n",
    "print(\"Val acc:\", best_val_acc)"
   ]
  },
  {
   "cell_type": "code",
   "execution_count": null,
   "metadata": {
    "collapsed": false
   },
   "outputs": [],
   "source": [
    "# %matplotlib\n",
    "# plt.plot(C_grid, val_accs)"
   ]
  },
  {
   "cell_type": "code",
   "execution_count": null,
   "metadata": {
    "collapsed": false
   },
   "outputs": [],
   "source": [
    "clf = SVC(kernel=kernel, C=best_C, gamma=best_γ)\n",
    "clf.fit(X_train_1, y_train_1)\n",
    "    \n",
    "predictions = clf.predict(X_test_1)\n",
    "test_accuracy = len(np.argwhere(predictions == y_test_1)) / len(predictions)\n",
    "print(test_accuracy)"
   ]
  },
  {
   "cell_type": "markdown",
   "metadata": {},
   "source": [
    "### Hyper-parameters and results\n",
    "- RBF\n",
    "    - C = 0.03125\n",
    "    - $\\gamma$ = 0.0078125\n",
    "    - val acc = \n",
    "    - test acc = 0.578\n",
    "- poly\n",
    "    - C = 0.011048543456039806\n",
    "    - $\\gamma$ = 0.25\n",
    "    - val acc = \n",
    "    - test acc = 0.306\n",
    "- linear\n",
    "    - C = 0.02209708691207961\n",
    "    - val acc = \n",
    "    - test acc = 0.588\n",
    "- sigmoid\n",
    "    - C = 0.03125\n",
    "    - $\\gamma$ = 6.103515625e-05\n",
    "    - val acc = 0.554\n",
    "    - test acc = 0.582"
   ]
  },
  {
   "cell_type": "markdown",
   "metadata": {},
   "source": [
    "## SVM using node features and neighbours"
   ]
  },
  {
   "cell_type": "code",
   "execution_count": 29,
   "metadata": {
    "collapsed": false
   },
   "outputs": [
    {
     "name": "stdout",
     "output_type": "stream",
     "text": [
      "(1000, 2866)\n"
     ]
    }
   ],
   "source": [
    "X_train_2 = merged_features[train_mask]\n",
    "y_train_2 = np.argmax(y_train[train_mask], axis=-1)\n",
    "\n",
    "X_val_2 = merged_features[val_mask]\n",
    "y_val_2 = np.argmax(y_val[val_mask], axis=-1)\n",
    "\n",
    "X_test_2 = merged_features[test_mask]\n",
    "y_test_2 = np.argmax(y_test[test_mask], axis=-1)\n",
    "print(X_test_2.shape)"
   ]
  },
  {
   "cell_type": "code",
   "execution_count": 21,
   "metadata": {
    "collapsed": false
   },
   "outputs": [],
   "source": [
    "# parameters = {'kernel':('linear', 'rbf'), 'C': np.arange(1, 100, 1)}\n",
    "# svc = SVC()\n",
    "# clf = GridSearchCV(svc, parameters)\n",
    "# clf.fit(X_train, y_train)\n",
    "# print(clf.best_params_)"
   ]
  },
  {
   "cell_type": "code",
   "execution_count": 26,
   "metadata": {
    "collapsed": false
   },
   "outputs": [
    {
     "name": "stdout",
     "output_type": "stream",
     "text": [
      "[   10.            11.93776642    14.2510267     17.0125428\n",
      "    20.30917621    24.24462017    28.94266125    34.55107295\n",
      "    41.24626383    49.23882632    58.78016072    70.17038287\n",
      "    83.76776401   100.           119.37766417   142.51026703\n",
      "   170.12542799   203.09176209   242.44620171   289.42661247\n",
      "   345.51072946   412.46263829   492.38826317   587.80160723\n",
      "   701.70382867   837.67764007  1000.          1193.77664171\n",
      "  1425.1026703   1701.25427985  2030.9176209   2424.46201708\n",
      "  2894.26612472  3455.10729459  4124.6263829   4923.88263171\n",
      "  5878.01607227  7017.0382867   8376.77640068 10000.        ]\n",
      "linear\n",
      "0.692\n",
      "10.0\n",
      "CPU times: user 11.8 s, sys: 63.6 ms, total: 11.9 s\n",
      "Wall time: 11.9 s\n"
     ]
    }
   ],
   "source": [
    "%%time\n",
    "kernel = 'linear'\n",
    "best_val_acc = 0\n",
    "val_accs= []\n",
    "C_grid = np.logspace(1, 4, 40)\n",
    "for C in C_grid:\n",
    "    clf = SVC(kernel=kernel, C=C)\n",
    "    clf.fit(X_train_2, y_train_2)\n",
    "    val_predictions = clf.predict(X_val_2)\n",
    "    val_acc = len(np.argwhere(val_predictions == y_val_2)) / len(val_predictions)\n",
    "    val_accs.append(val_acc)\n",
    "    if val_acc > best_val_acc:\n",
    "        best_val_acc = val_acc\n",
    "        best_C = C\n",
    "\n",
    "print(kernel)\n",
    "print(best_val_acc)\n",
    "print(best_C)"
   ]
  },
  {
   "cell_type": "code",
   "execution_count": 23,
   "metadata": {
    "collapsed": false
   },
   "outputs": [
    {
     "name": "stdout",
     "output_type": "stream",
     "text": [
      "Using matplotlib backend: TkAgg\n"
     ]
    },
    {
     "data": {
      "text/plain": [
       "[<matplotlib.lines.Line2D at 0x11927aba8>]"
      ]
     },
     "execution_count": 23,
     "metadata": {},
     "output_type": "execute_result"
    }
   ],
   "source": [
    "%matplotlib\n",
    "plt.plot(C_grid, val_accs)"
   ]
  },
  {
   "cell_type": "code",
   "execution_count": 25,
   "metadata": {
    "collapsed": false
   },
   "outputs": [
    {
     "name": "stdout",
     "output_type": "stream",
     "text": [
      "0.729\n"
     ]
    }
   ],
   "source": [
    "clf = SVC(kernel='linear', C=best_C)\n",
    "clf.fit(X_train_2, y_train_2)\n",
    "    \n",
    "predictions = clf.predict(X_test_2)\n",
    "test_accuracy = len(np.argwhere(predictions == y_test_2)) / len(predictions)\n",
    "print(test_accuracy)"
   ]
  },
  {
   "cell_type": "markdown",
   "metadata": {},
   "source": [
    "Note: possible to get 76 using a linear kernel and C=5 (approximatively)"
   ]
  }
 ],
 "metadata": {
  "anaconda-cloud": {},
  "kernelspec": {
   "display_name": "Python [conda env:python3]",
   "language": "python",
   "name": "conda-env-python3-py"
  },
  "language_info": {
   "codemirror_mode": {
    "name": "ipython",
    "version": 3
   },
   "file_extension": ".py",
   "mimetype": "text/x-python",
   "name": "python",
   "nbconvert_exporter": "python",
   "pygments_lexer": "ipython3",
   "version": "3.5.4"
  },
  "toc": {
   "nav_menu": {},
   "number_sections": true,
   "sideBar": true,
   "skip_h1_title": false,
   "toc_cell": false,
   "toc_position": {},
   "toc_section_display": "block",
   "toc_window_display": false
  }
 },
 "nbformat": 4,
 "nbformat_minor": 1
}
