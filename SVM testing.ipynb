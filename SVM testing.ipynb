{
 "cells": [
  {
   "cell_type": "code",
   "execution_count": 1,
   "metadata": {},
   "outputs": [],
   "source": [
    "from utils import load_data\n",
    "\n",
    "from matplotlib import pyplot as plt\n",
    "import numpy as np\n",
    "from sklearn.svm import SVC\n",
    "from sklearn.model_selection import GridSearchCV"
   ]
  },
  {
   "cell_type": "code",
   "execution_count": 2,
   "metadata": {},
   "outputs": [
    {
     "name": "stdout",
     "output_type": "stream",
     "text": [
      "Total number of nodes: 2708\n",
      "Training nodes: 140\n",
      "Validation nodes: 500\n",
      "Test nodes: 1000\n",
      "Num nodes: 2708\n",
      "num_features: 1433\n"
     ]
    }
   ],
   "source": [
    "dataset = 'cora'\n",
    "\n",
    "adj, features, y_train, y_val, y_test, train_mask, val_mask, test_mask = load_data(dataset)\n",
    "num_nodes = adj.shape[0]\n",
    "num_features = features.shape[1]\n",
    "num_classes = y_train.shape[1]\n",
    "\n",
    "print(\"Total number of nodes: {}\".format(adj.shape[0]))\n",
    "print(\"Training nodes: {}\".format(len(np.argwhere(y_train == True))))\n",
    "print(\"Validation nodes: {}\".format(len(np.argwhere(y_val == True))))\n",
    "print(\"Test nodes: {}\".format(len(np.argwhere(y_test == True))))\n",
    "print(\"Num nodes: {}\".format(num_nodes))\n",
    "print(\"num_features: {}\".format(num_features))\n",
    "\n",
    "adj = np.array(adj.todense())"
   ]
  },
  {
   "cell_type": "code",
   "execution_count": 3,
   "metadata": {},
   "outputs": [],
   "source": [
    "# Compute the mean of all neighbouring features for the given node\n",
    "def neighbouring_features(node):\n",
    "    neighbours = adj[node]\n",
    "    neighbour_indices = np.argwhere(neighbours == 1)[:, 0]\n",
    "    neighbour_features = features[neighbour_indices]\n",
    "    return np.mean(neighbour_features, axis=0)[0]\n",
    "\n",
    "\n",
    "def compute_neighbouring_features():\n",
    "    f = []\n",
    "    for i in range(num_nodes):\n",
    "        f.append(neighbouring_features(i))\n",
    "    # f = [neighbouring_features(i) for i in range(num_nodes)]\n",
    "    return np.array(f)"
   ]
  },
  {
   "cell_type": "code",
   "execution_count": 4,
   "metadata": {},
   "outputs": [
    {
     "name": "stdout",
     "output_type": "stream",
     "text": [
      "(2708, 1, 1433)\n",
      "CPU times: user 17.4 s, sys: 77.7 ms, total: 17.5 s\n",
      "Wall time: 17.5 s\n"
     ]
    }
   ],
   "source": [
    "%%time\n",
    "f = compute_neighbouring_features()\n",
    "print(f.shape)"
   ]
  },
  {
   "cell_type": "code",
   "execution_count": 5,
   "metadata": {},
   "outputs": [],
   "source": [
    "f = f.reshape(-1, num_features)\n",
    "dense_features = np.array(features.todense())\n",
    "\n",
    "merged_features = np.concatenate([f, dense_features], axis=-1)"
   ]
  },
  {
   "cell_type": "markdown",
   "metadata": {},
   "source": [
    "## SVM using node features alone"
   ]
  },
  {
   "cell_type": "code",
   "execution_count": 104,
   "metadata": {
    "collapsed": true
   },
   "outputs": [],
   "source": [
    "def normalize_features(features):\n",
    "    \"\"\"row-normalize features\"\"\"\n",
    "    row_sum = np.array(np.sum(features, axis=1))\n",
    "    r_inv = np.power(row_sum, -1).flatten()\n",
    "    r_inv[np.isinf(r_inv)] = 0\n",
    "    r_mat_inv = np.diag(r_inv)\n",
    "    features = r_mat_inv.dot(features)\n",
    "    return features"
   ]
  },
  {
   "cell_type": "code",
   "execution_count": 114,
   "metadata": {},
   "outputs": [
    {
     "name": "stdout",
     "output_type": "stream",
     "text": [
      "(1000, 1433)\n"
     ]
    }
   ],
   "source": [
    "# dense_features = normalize_features(dense_features)\n",
    "X_train_1 = dense_features[train_mask]\n",
    "y_train_1 = np.argmax(y_train[train_mask], axis=-1)\n",
    "\n",
    "X_val_1 = dense_features[val_mask]\n",
    "y_val_1 = np.argmax(y_val[val_mask], axis=-1)\n",
    "\n",
    "X_test_1 = dense_features[test_mask]\n",
    "y_test_1 = np.argmax(y_test[test_mask], axis=-1)\n",
    "print(X_test_1.shape)"
   ]
  },
  {
   "cell_type": "code",
   "execution_count": 115,
   "metadata": {},
   "outputs": [
    {
     "name": "stdout",
     "output_type": "stream",
     "text": [
      "Kernel: rbf\n",
      "Best C: 0.03125\n",
      "Best γ: 8.0\n",
      "Val acc: 0.412\n"
     ]
    }
   ],
   "source": [
    "kernel = 'rbf'\n",
    "\n",
    "best_val_acc = 0\n",
    "val_accs= []\n",
    "\n",
    "C_grid = np.logspace(-5, -15, num=21, base=2)\n",
    "γ_grid = np.logspace(-15, 3, num=19, base=2)\n",
    "# γ_grid = ['auto']\n",
    "\n",
    "for C in C_grid:\n",
    "    for γ in γ_grid:\n",
    "        clf = SVC(kernel=kernel, C=C, gamma=γ)\n",
    "        clf.fit(X_train_1, y_train_1)\n",
    "        val_predictions = clf.predict(X_val_1)\n",
    "        val_acc = len(np.argwhere(val_predictions == y_val_1)) / len(val_predictions)\n",
    "        val_accs.append(val_acc)\n",
    "        if val_acc > best_val_acc:\n",
    "            best_val_acc = val_acc\n",
    "            best_C = C\n",
    "            best_γ = γ\n",
    "\n",
    "print(\"Kernel:\", kernel)\n",
    "print(\"Best C:\", best_C)\n",
    "print(\"Best γ:\", best_γ)\n",
    "print(\"Val acc:\", best_val_acc)"
   ]
  },
  {
   "cell_type": "code",
   "execution_count": 116,
   "metadata": {},
   "outputs": [],
   "source": [
    "# %matplotlib\n",
    "# plt.plot(C_grid, val_accs)"
   ]
  },
  {
   "cell_type": "code",
   "execution_count": 117,
   "metadata": {},
   "outputs": [
    {
     "name": "stdout",
     "output_type": "stream",
     "text": [
      "0.453\n"
     ]
    }
   ],
   "source": [
    "clf = SVC(kernel=kernel, C=best_C, gamma=best_γ)\n",
    "clf.fit(X_train_1, y_train_1)\n",
    "    \n",
    "predictions = clf.predict(X_test_1)\n",
    "test_accuracy = len(np.argwhere(predictions == y_test_1)) / len(predictions)\n",
    "print(test_accuracy)"
   ]
  },
  {
   "cell_type": "markdown",
   "metadata": {},
   "source": [
    "### Hyper-parameters and results\n",
    "- RBF\n",
    "    - C = 0.03125\n",
    "    - $\\gamma$ = 0.0078125\n",
    "    - val acc = 0.564\n",
    "    - test acc = 0.578\n",
    "- poly\n",
    "    - C = 0.011048543456039806\n",
    "    - $\\gamma$ = 0.25\n",
    "    - val acc = 0.294\n",
    "    - test acc = 0.306\n",
    "- linear\n",
    "    - C = 0.02209708691207961\n",
    "    - val acc = 0.556\n",
    "    - test acc = 0.588\n",
    "- sigmoid\n",
    "    - C = 0.03125\n",
    "    - $\\gamma$ = 6.103515625e-05\n",
    "    - val acc = 0.554\n",
    "    - test acc = 0.582"
   ]
  },
  {
   "cell_type": "markdown",
   "metadata": {},
   "source": [
    "## SVM using node features and neighbours"
   ]
  },
  {
   "cell_type": "code",
   "execution_count": 29,
   "metadata": {},
   "outputs": [
    {
     "name": "stdout",
     "output_type": "stream",
     "text": [
      "(1000, 2866)\n"
     ]
    }
   ],
   "source": [
    "X_train_2 = merged_features[train_mask]\n",
    "y_train_2 = np.argmax(y_train[train_mask], axis=-1)\n",
    "\n",
    "X_val_2 = merged_features[val_mask]\n",
    "y_val_2 = np.argmax(y_val[val_mask], axis=-1)\n",
    "\n",
    "X_test_2 = merged_features[test_mask]\n",
    "y_test_2 = np.argmax(y_test[test_mask], axis=-1)\n",
    "print(X_test_2.shape)"
   ]
  },
  {
   "cell_type": "code",
   "execution_count": 21,
   "metadata": {},
   "outputs": [],
   "source": [
    "# parameters = {'kernel':('linear', 'rbf'), 'C': np.arange(1, 100, 1)}\n",
    "# svc = SVC()\n",
    "# clf = GridSearchCV(svc, parameters)\n",
    "# clf.fit(X_train, y_train)\n",
    "# print(clf.best_params_)"
   ]
  },
  {
   "cell_type": "code",
   "execution_count": 97,
   "metadata": {},
   "outputs": [
    {
     "name": "stdout",
     "output_type": "stream",
     "text": [
      "Kernel: linear\n",
      "Best C: 0.03125\n",
      "Best γ: auto\n",
      "Val acc: 0.7\n"
     ]
    }
   ],
   "source": [
    "kernel = 'linear'\n",
    "\n",
    "best_val_acc = 0\n",
    "val_accs= []\n",
    "\n",
    "C_grid = np.logspace(-5, -15, num=21, base=2)\n",
    "# γ_grid = np.logspace(-15, 3, num=19, base=2)\n",
    "γ_grid = ['auto']\n",
    "\n",
    "for C in C_grid:\n",
    "    for γ in γ_grid:\n",
    "        clf = SVC(kernel=kernel, C=C, gamma=γ)\n",
    "        clf.fit(X_train_2, y_train_2)\n",
    "        val_predictions = clf.predict(X_val_2)\n",
    "        val_acc = len(np.argwhere(val_predictions == y_val_2)) / len(val_predictions)\n",
    "        val_accs.append(val_acc)\n",
    "        if val_acc > best_val_acc:\n",
    "            best_val_acc = val_acc\n",
    "            best_C = C\n",
    "            best_γ = γ\n",
    "\n",
    "print(\"Kernel:\", kernel)\n",
    "print(\"Best C:\", best_C)\n",
    "print(\"Best γ:\", best_γ)\n",
    "print(\"Val acc:\", best_val_acc)"
   ]
  },
  {
   "cell_type": "code",
   "execution_count": 98,
   "metadata": {},
   "outputs": [],
   "source": [
    "# %matplotlib\n",
    "# plt.plot(C_grid, val_accs)"
   ]
  },
  {
   "cell_type": "code",
   "execution_count": 99,
   "metadata": {},
   "outputs": [
    {
     "name": "stdout",
     "output_type": "stream",
     "text": [
      "0.731\n"
     ]
    }
   ],
   "source": [
    "clf = SVC(kernel=kernel, C=best_C, gamma=best_γ)\n",
    "clf.fit(X_train_2, y_train_2)\n",
    "    \n",
    "predictions = clf.predict(X_test_2)\n",
    "test_accuracy = len(np.argwhere(predictions == y_test_2)) / len(predictions)\n",
    "print(test_accuracy)"
   ]
  },
  {
   "cell_type": "markdown",
   "metadata": {},
   "source": [
    "### Hyper-parameters and results\n",
    "- RBF\n",
    "    - C = 0.03125\n",
    "    - $\\gamma$ = 0.0009765625\n",
    "    - val acc = 0.654\n",
    "    - test acc = 0.665\n",
    "- poly\n",
    "    - Best C: 0.02209708691207961\n",
    "    - Best $\\gamma$: 0.125\n",
    "    - Val acc: 0.26\n",
    "    - test acc = 0.251\n",
    "- linear\n",
    "    - C = 0.03125\n",
    "    - val acc = 0.7\n",
    "    - test acc = 0.731\n",
    "- sigmoid\n",
    "    - C = 0.03125\n",
    "    - $\\gamma$ = 0.125\n",
    "    - val acc = 0.654\n",
    "    - test acc = 0.684"
   ]
  },
  {
   "cell_type": "markdown",
   "metadata": {},
   "source": [
    "Note: possible to get 76 using a linear kernel and C=5 (approximatively)"
   ]
  },
  {
   "cell_type": "markdown",
   "metadata": {},
   "source": [
    "## Use simple feedforward neural net"
   ]
  },
  {
   "cell_type": "code",
   "execution_count": 6,
   "metadata": {},
   "outputs": [
    {
     "name": "stderr",
     "output_type": "stream",
     "text": [
      "Using TensorFlow backend.\n"
     ]
    }
   ],
   "source": [
    "from keras.models import Model\n",
    "from keras.layers import Dense, Input, Dropout, BatchNormalization\n",
    "from keras.regularizers import l2"
   ]
  },
  {
   "cell_type": "code",
   "execution_count": 7,
   "metadata": {},
   "outputs": [],
   "source": [
    "def accuracy(predictions_probs, labels):\n",
    "    predictions = np.argmax(predictions_probs, axis=-1)\n",
    "    labels = np.argmax(labels, axis=-1)\n",
    "    assert(predictions.shape == labels.shape)\n",
    "    num_correct = len(np.argwhere(predictions == labels))\n",
    "    accuracy = num_correct / len(labels)\n",
    "    return accuracy"
   ]
  },
  {
   "cell_type": "code",
   "execution_count": 8,
   "metadata": {},
   "outputs": [
    {
     "name": "stdout",
     "output_type": "stream",
     "text": [
      "(500, 2866)\n",
      "(500, 7)\n"
     ]
    }
   ],
   "source": [
    "X_train_3 = merged_features[train_mask]\n",
    "y_train_3 = y_train[train_mask]\n",
    "\n",
    "X_val_3 = merged_features[val_mask]\n",
    "y_val_3 = y_val[val_mask]\n",
    "print(X_val_3.shape)\n",
    "print(y_val_3.shape)\n",
    "X_test_3 = merged_features[test_mask]\n",
    "y_test_3 = y_test[test_mask]"
   ]
  },
  {
   "cell_type": "code",
   "execution_count": 18,
   "metadata": {
    "scrolled": true
   },
   "outputs": [
    {
     "name": "stdout",
     "output_type": "stream",
     "text": [
      "2866\n",
      "train acc: 1.0\n",
      "Val acc: 0.718\n",
      "Test acc: 0.735\n"
     ]
    }
   ],
   "source": [
    "num_dense_features = X_train_3.shape[1]\n",
    "print(num_dense_features)\n",
    "batch_size = 32\n",
    "num_epochs = 300\n",
    "p = 0.2\n",
    "reg_weight = 0.05\n",
    "\n",
    "h_1 = 64\n",
    "# h_2 = 32\n",
    "\n",
    "inputs = Input(shape=(num_dense_features, ))\n",
    "inputs_dropped = Dropout(p)(inputs)\n",
    "x1 = Dense(h_1, activation='relu', kernel_regularizer=l2(reg_weight))(inputs_dropped)\n",
    "# x1 = BatchNormalization()(x1)\n",
    "x1_dropped = Dropout(p)(x1)\n",
    "# x2 = Dense(h_2, activation='relu', kernel_regularizer=l2(reg_weight))(x1_dropped)\n",
    "# x2_dropped = Dropout(p)(x2)\n",
    "predictions = Dense(num_classes, activation='softmax')(x1_dropped)\n",
    "\n",
    "model = Model(inputs=inputs, outputs=predictions)\n",
    "model.compile(optimizer='adam',\n",
    "              loss='categorical_crossentropy',\n",
    "              metrics=['categorical_accuracy'])\n",
    "\n",
    "hist = model.fit(x=X_train_3, y=y_train_3, batch_size=batch_size, epochs=num_epochs, validation_data=(X_val_3, y_val_3), verbose=0)\n",
    "print(\"train acc:\", hist.history['categorical_accuracy'][-1])\n",
    "\n",
    "val_predictions_probabilities =  model.predict(X_val_3, batch_size=batch_size)\n",
    "print(\"Val acc:\", accuracy(val_predictions_probabilities, y_val_3))\n",
    "\n",
    "test_predictions_probabilities = model.predict(X_test_3, batch_size=batch_size)\n",
    "print(\"Test acc:\", accuracy(test_predictions_probabilities, y_test_3))"
   ]
  },
  {
   "cell_type": "code",
   "execution_count": 19,
   "metadata": {},
   "outputs": [
    {
     "name": "stdout",
     "output_type": "stream",
     "text": [
      "0.735\n"
     ]
    }
   ],
   "source": [
    "test_predictions_probabilities = model.predict(X_test_3, batch_size=batch_size)\n",
    "print(accuracy(test_predictions_probabilities, y_test_3))"
   ]
  },
  {
   "cell_type": "code",
   "execution_count": 11,
   "metadata": {},
   "outputs": [
    {
     "name": "stdout",
     "output_type": "stream",
     "text": [
      "1.0\n"
     ]
    }
   ],
   "source": [
    "train_predictions_probabilities =  model.predict(X_train_3, batch_size=batch_size)\n",
    "print(accuracy(train_predictions_probabilities, y_train_3))"
   ]
  },
  {
   "cell_type": "code",
   "execution_count": null,
   "metadata": {
    "collapsed": true
   },
   "outputs": [],
   "source": []
  }
 ],
 "metadata": {
  "anaconda-cloud": {},
  "kernelspec": {
   "display_name": "Python 3",
   "language": "python",
   "name": "python3"
  },
  "language_info": {
   "codemirror_mode": {
    "name": "ipython",
    "version": 3
   },
   "file_extension": ".py",
   "mimetype": "text/x-python",
   "name": "python",
   "nbconvert_exporter": "python",
   "pygments_lexer": "ipython3",
   "version": "3.5.4"
  },
  "toc": {
   "nav_menu": {},
   "number_sections": true,
   "sideBar": true,
   "skip_h1_title": false,
   "toc_cell": false,
   "toc_position": {},
   "toc_section_display": "block",
   "toc_window_display": false
  }
 },
 "nbformat": 4,
 "nbformat_minor": 1
}
