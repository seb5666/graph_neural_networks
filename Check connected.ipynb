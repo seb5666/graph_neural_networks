{
 "cells": [
  {
   "cell_type": "code",
   "execution_count": 44,
   "metadata": {
    "collapsed": false
   },
   "outputs": [],
   "source": [
    "from utils import load_data\n",
    "import numpy as np\n",
    "\n",
    "from matplotlib import pyplot as plt\n",
    "plt.style.use('ggplot')"
   ]
  },
  {
   "cell_type": "code",
   "execution_count": 45,
   "metadata": {
    "collapsed": true
   },
   "outputs": [],
   "source": [
    "adj, features, y_train, y_val, y_test, train_mask, val_mask, test_mask = load_data('cora')\n",
    "adj = np.array(adj.todense())"
   ]
  },
  {
   "cell_type": "code",
   "execution_count": 46,
   "metadata": {
    "collapsed": false
   },
   "outputs": [
    {
     "name": "stdout",
     "output_type": "stream",
     "text": [
      "<class 'numpy.ndarray'>\n"
     ]
    }
   ],
   "source": [
    "print(type(adj))"
   ]
  },
  {
   "cell_type": "code",
   "execution_count": 47,
   "metadata": {
    "collapsed": true
   },
   "outputs": [],
   "source": [
    "def bfs(adj):\n",
    "    start_node = 0\n",
    "    visited = np.full(shape=adj.shape[0], fill_value=False, dtype=np.bool)\n",
    "    queue = [start_node]\n",
    "    while len(queue) != 0:\n",
    "        current_node = queue.pop()\n",
    "        if visited[current_node]:\n",
    "            continue\n",
    "        visited[current_node] = True\n",
    "        neighbours = np.argwhere(adj[current_node] == 1)[:,0]\n",
    "        for n in neighbours:\n",
    "            if not(visited[n]):\n",
    "                queue.append(n)\n",
    "    print(len(np.argwhere(visited == True)))\n",
    "    print(len(adj))"
   ]
  },
  {
   "cell_type": "code",
   "execution_count": 48,
   "metadata": {
    "collapsed": false,
    "scrolled": true
   },
   "outputs": [
    {
     "name": "stdout",
     "output_type": "stream",
     "text": [
      "2485\n",
      "2708\n"
     ]
    }
   ],
   "source": []
  },
  {
   "cell_type": "code",
   "execution_count": 49,
   "metadata": {
    "collapsed": true
   },
   "outputs": [],
   "source": [
    "def degrees(adj):\n",
    "    return np.sum(adj, axis=-1)"
   ]
  },
  {
   "cell_type": "code",
   "execution_count": 103,
   "metadata": {
    "collapsed": false,
    "scrolled": false
   },
   "outputs": [
    {
     "name": "stdout",
     "output_type": "stream",
     "text": [
      "3.8980797636632203\n",
      "0 0\n",
      "1 485\n",
      "2 583\n",
      "3 553\n",
      "4 389\n",
      "5 281\n",
      "6 131\n",
      "7 82\n",
      "8 57\n",
      "9 25\n",
      "10 26\n",
      "11 14\n",
      "12 18\n",
      "13 5\n",
      "14 6\n",
      "15 6\n",
      "16 7\n",
      "17 8\n",
      "18 3\n",
      "19 5\n",
      "20 0\n",
      "21 3\n",
      "22 1\n",
      "23 3\n",
      "24 0\n",
      "25 0\n",
      "26 1\n",
      "27 0\n",
      "28 0\n",
      "29 1\n",
      "30 2\n",
      "31 1\n",
      "32 2\n",
      "33 1\n",
      "34 1\n",
      "35 0\n",
      "36 1\n",
      "37 0\n",
      "38 0\n",
      "39 0\n",
      "40 1\n",
      "41 0\n",
      "42 1\n",
      "43 0\n",
      "44 1\n",
      "45 0\n",
      "46 0\n",
      "47 0\n",
      "48 0\n",
      "49 0\n",
      "50 0\n",
      "51 0\n",
      "52 0\n",
      "53 0\n",
      "54 0\n",
      "55 0\n",
      "56 0\n",
      "57 0\n",
      "58 0\n",
      "59 0\n",
      "60 0\n",
      "61 0\n",
      "62 0\n",
      "63 0\n",
      "64 0\n",
      "65 1\n",
      "66 0\n",
      "67 0\n",
      "68 0\n",
      "69 0\n",
      "70 0\n",
      "71 0\n",
      "72 0\n",
      "73 0\n",
      "74 1\n",
      "75 0\n",
      "76 0\n",
      "77 0\n",
      "78 1\n",
      "79 0\n",
      "80 0\n",
      "81 0\n",
      "82 0\n",
      "83 0\n",
      "84 0\n",
      "85 0\n",
      "86 0\n",
      "87 0\n",
      "88 0\n",
      "89 0\n",
      "90 0\n",
      "91 0\n",
      "92 0\n",
      "93 0\n",
      "94 0\n",
      "95 0\n",
      "96 0\n",
      "97 0\n",
      "98 0\n",
      "99 0\n",
      "100 0\n",
      "101 0\n",
      "102 0\n",
      "103 0\n",
      "104 0\n",
      "105 0\n",
      "106 0\n",
      "107 0\n",
      "108 0\n",
      "109 0\n",
      "110 0\n",
      "111 0\n",
      "112 0\n",
      "113 0\n",
      "114 0\n",
      "115 0\n",
      "116 0\n",
      "117 0\n",
      "118 0\n",
      "119 0\n",
      "120 0\n",
      "121 0\n",
      "122 0\n",
      "123 0\n",
      "124 0\n",
      "125 0\n",
      "126 0\n",
      "127 0\n",
      "128 0\n",
      "129 0\n",
      "130 0\n",
      "131 0\n",
      "132 0\n",
      "133 0\n",
      "134 0\n",
      "135 0\n",
      "136 0\n",
      "137 0\n",
      "138 0\n",
      "139 0\n",
      "140 0\n",
      "141 0\n",
      "142 0\n",
      "143 0\n",
      "144 0\n",
      "145 0\n",
      "146 0\n",
      "147 0\n",
      "148 0\n",
      "149 0\n",
      "150 0\n",
      "151 0\n",
      "152 0\n",
      "153 0\n",
      "154 0\n",
      "155 0\n",
      "156 0\n",
      "157 0\n",
      "158 0\n",
      "159 0\n",
      "160 0\n",
      "161 0\n",
      "162 0\n",
      "163 0\n",
      "164 0\n",
      "165 0\n",
      "166 0\n",
      "167 0\n",
      "168 1\n",
      "[  1   2   3   4   5   6   7   8   9  10  11  12  13  14  15  16  17  18\n",
      "  19  21  22  23  26  29  30  31  32  33  34  36  40  42  44  65  74  78\n",
      " 168]\n"
     ]
    }
   ],
   "source": [
    "D = degrees(adj)\n",
    "average_degree = np.mean(D)\n",
    "print(average_degree)\n",
    "for i, c in enumerate(np.bincount(D)):\n",
    "    print(i,c)\n",
    "print(np.argwhere(np.bincount(D) > 0)[:,0])"
   ]
  },
  {
   "cell_type": "code",
   "execution_count": 90,
   "metadata": {
    "collapsed": false
   },
   "outputs": [
    {
     "data": {
      "image/png": "[encoded data removed]",
      "text/plain": [
       "<matplotlib.figure.Figure at 0x11e2f55f8>"
      ]
     },
     "metadata": {},
     "output_type": "display_data"
    }
   ],
   "source": [
    "%matplotlib inline\n",
    "plt.figure(figsize=(16,5))\n",
    "plt.hist(D, bins=np.arange(D.min(), D.max()+1))\n",
    "plt.xlim(0, D.max()+1)\n",
    "plt.title(\"Distribution of node degrees\")\n",
    "plt.xlabel(\"Degree\")\n",
    "plt.ylabel(\"Frequency\")\n",
    "# plt.savefig(\"./figs/node_degrees.png\", bbox_inches='tight')"
   ]
  },
  {
   "cell_type": "code",
   "execution_count": 89,
   "metadata": {
    "collapsed": false
   },
   "outputs": [
    {
     "data": {
      "image/png": "[encoded data removed]",
      "text/plain": [
       "<matplotlib.figure.Figure at 0x11e2f2d30>"
      ]
     },
     "metadata": {},
     "output_type": "display_data"
    }
   ],
   "source": [
    "trunc_D = D[D < 40]\n",
    "plt.figure(figsize=(16,5))\n",
    "plt.hist(trunc_D, bins=np.arange(trunc_D.min(), trunc_D.max()), align='left')\n",
    "plt.xlim(0, trunc_D.max()+1)\n",
    "plt.xticks(np.arange(0, trunc_D.max()))\n",
    "plt.title(\"Distribution of node degrees below 40\")\n",
    "plt.xlabel(\"Degree\")\n",
    "plt.ylabel(\"Frequency\")\n",
    "# plt.savefig(\"./figs/node_degrees_truncated.png\", bbox_inches='tight')"
   ]
  },
  {
   "cell_type": "code",
   "execution_count": 87,
   "metadata": {
    "collapsed": false
   },
   "outputs": [
    {
     "name": "stdout",
     "output_type": "stream",
     "text": [
      "2708\n",
      "2701\n",
      "0.9974150664697193\n"
     ]
    }
   ],
   "source": [
    "print(len(D))\n",
    "print(len(trunc_D))\n",
    "print(len(trunc_D)/len(D))"
   ]
  },
  {
   "cell_type": "code",
   "execution_count": 100,
   "metadata": {
    "collapsed": false,
    "scrolled": false
   },
   "outputs": [
    {
     "name": "stdout",
     "output_type": "stream",
     "text": [
      "Degree: 0, cum_count: 0, cum_freq: 0.000\n",
      "Degree: 1, cum_count: 485, cum_freq: 0.179\n",
      "Degree: 2, cum_count: 1068, cum_freq: 0.394\n",
      "Degree: 3, cum_count: 1621, cum_freq: 0.599\n",
      "Degree: 4, cum_count: 2010, cum_freq: 0.742\n",
      "Degree: 5, cum_count: 2291, cum_freq: 0.846\n",
      "Degree: 6, cum_count: 2422, cum_freq: 0.894\n",
      "Degree: 7, cum_count: 2504, cum_freq: 0.925\n",
      "Degree: 8, cum_count: 2561, cum_freq: 0.946\n",
      "Degree: 9, cum_count: 2586, cum_freq: 0.955\n",
      "Degree: 10, cum_count: 2612, cum_freq: 0.965\n",
      "Degree: 11, cum_count: 2626, cum_freq: 0.970\n",
      "Degree: 12, cum_count: 2644, cum_freq: 0.976\n",
      "Degree: 13, cum_count: 2649, cum_freq: 0.978\n",
      "Degree: 14, cum_count: 2655, cum_freq: 0.980\n",
      "Degree: 15, cum_count: 2661, cum_freq: 0.983\n",
      "Degree: 16, cum_count: 2668, cum_freq: 0.985\n",
      "Degree: 17, cum_count: 2676, cum_freq: 0.988\n",
      "Degree: 18, cum_count: 2679, cum_freq: 0.989\n",
      "Degree: 19, cum_count: 2684, cum_freq: 0.991\n",
      "Degree: 20, cum_count: 2684, cum_freq: 0.991\n",
      "Degree: 21, cum_count: 2687, cum_freq: 0.992\n",
      "Degree: 22, cum_count: 2688, cum_freq: 0.993\n",
      "Degree: 23, cum_count: 2691, cum_freq: 0.994\n",
      "Degree: 24, cum_count: 2691, cum_freq: 0.994\n",
      "Degree: 25, cum_count: 2691, cum_freq: 0.994\n",
      "Degree: 26, cum_count: 2692, cum_freq: 0.994\n",
      "Degree: 27, cum_count: 2692, cum_freq: 0.994\n",
      "Degree: 28, cum_count: 2692, cum_freq: 0.994\n",
      "Degree: 29, cum_count: 2693, cum_freq: 0.994\n",
      "Degree: 30, cum_count: 2695, cum_freq: 0.995\n",
      "Degree: 31, cum_count: 2696, cum_freq: 0.996\n",
      "Degree: 32, cum_count: 2698, cum_freq: 0.996\n",
      "Degree: 33, cum_count: 2699, cum_freq: 0.997\n",
      "Degree: 34, cum_count: 2700, cum_freq: 0.997\n",
      "Degree: 35, cum_count: 2700, cum_freq: 0.997\n",
      "Degree: 36, cum_count: 2701, cum_freq: 0.997\n",
      "Degree: 37, cum_count: 2701, cum_freq: 0.997\n",
      "Degree: 38, cum_count: 2701, cum_freq: 0.997\n",
      "Degree: 39, cum_count: 2701, cum_freq: 0.997\n",
      "Degree: 40, cum_count: 2702, cum_freq: 0.998\n",
      "Degree: 41, cum_count: 2702, cum_freq: 0.998\n",
      "Degree: 42, cum_count: 2703, cum_freq: 0.998\n",
      "Degree: 43, cum_count: 2703, cum_freq: 0.998\n",
      "Degree: 44, cum_count: 2704, cum_freq: 0.999\n",
      "Degree: 45, cum_count: 2704, cum_freq: 0.999\n",
      "Degree: 46, cum_count: 2704, cum_freq: 0.999\n",
      "Degree: 47, cum_count: 2704, cum_freq: 0.999\n",
      "Degree: 48, cum_count: 2704, cum_freq: 0.999\n",
      "Degree: 49, cum_count: 2704, cum_freq: 0.999\n",
      "Degree: 50, cum_count: 2704, cum_freq: 0.999\n",
      "Degree: 51, cum_count: 2704, cum_freq: 0.999\n",
      "Degree: 52, cum_count: 2704, cum_freq: 0.999\n",
      "Degree: 53, cum_count: 2704, cum_freq: 0.999\n",
      "Degree: 54, cum_count: 2704, cum_freq: 0.999\n",
      "Degree: 55, cum_count: 2704, cum_freq: 0.999\n",
      "Degree: 56, cum_count: 2704, cum_freq: 0.999\n",
      "Degree: 57, cum_count: 2704, cum_freq: 0.999\n",
      "Degree: 58, cum_count: 2704, cum_freq: 0.999\n",
      "Degree: 59, cum_count: 2704, cum_freq: 0.999\n",
      "Degree: 60, cum_count: 2704, cum_freq: 0.999\n",
      "Degree: 61, cum_count: 2704, cum_freq: 0.999\n",
      "Degree: 62, cum_count: 2704, cum_freq: 0.999\n",
      "Degree: 63, cum_count: 2704, cum_freq: 0.999\n",
      "Degree: 64, cum_count: 2704, cum_freq: 0.999\n",
      "Degree: 65, cum_count: 2705, cum_freq: 0.999\n",
      "Degree: 66, cum_count: 2705, cum_freq: 0.999\n",
      "Degree: 67, cum_count: 2705, cum_freq: 0.999\n",
      "Degree: 68, cum_count: 2705, cum_freq: 0.999\n",
      "Degree: 69, cum_count: 2705, cum_freq: 0.999\n",
      "Degree: 70, cum_count: 2705, cum_freq: 0.999\n",
      "Degree: 71, cum_count: 2705, cum_freq: 0.999\n",
      "Degree: 72, cum_count: 2705, cum_freq: 0.999\n",
      "Degree: 73, cum_count: 2705, cum_freq: 0.999\n",
      "Degree: 74, cum_count: 2706, cum_freq: 0.999\n",
      "Degree: 75, cum_count: 2706, cum_freq: 0.999\n",
      "Degree: 76, cum_count: 2706, cum_freq: 0.999\n",
      "Degree: 77, cum_count: 2706, cum_freq: 0.999\n",
      "Degree: 78, cum_count: 2707, cum_freq: 1.000\n",
      "Degree: 79, cum_count: 2707, cum_freq: 1.000\n",
      "Degree: 80, cum_count: 2707, cum_freq: 1.000\n",
      "Degree: 81, cum_count: 2707, cum_freq: 1.000\n",
      "Degree: 82, cum_count: 2707, cum_freq: 1.000\n",
      "Degree: 83, cum_count: 2707, cum_freq: 1.000\n",
      "Degree: 84, cum_count: 2707, cum_freq: 1.000\n",
      "Degree: 85, cum_count: 2707, cum_freq: 1.000\n",
      "Degree: 86, cum_count: 2707, cum_freq: 1.000\n",
      "Degree: 87, cum_count: 2707, cum_freq: 1.000\n",
      "Degree: 88, cum_count: 2707, cum_freq: 1.000\n",
      "Degree: 89, cum_count: 2707, cum_freq: 1.000\n",
      "Degree: 90, cum_count: 2707, cum_freq: 1.000\n",
      "Degree: 91, cum_count: 2707, cum_freq: 1.000\n",
      "Degree: 92, cum_count: 2707, cum_freq: 1.000\n",
      "Degree: 93, cum_count: 2707, cum_freq: 1.000\n",
      "Degree: 94, cum_count: 2707, cum_freq: 1.000\n",
      "Degree: 95, cum_count: 2707, cum_freq: 1.000\n",
      "Degree: 96, cum_count: 2707, cum_freq: 1.000\n",
      "Degree: 97, cum_count: 2707, cum_freq: 1.000\n",
      "Degree: 98, cum_count: 2707, cum_freq: 1.000\n",
      "Degree: 99, cum_count: 2707, cum_freq: 1.000\n",
      "Degree: 100, cum_count: 2707, cum_freq: 1.000\n",
      "Degree: 101, cum_count: 2707, cum_freq: 1.000\n",
      "Degree: 102, cum_count: 2707, cum_freq: 1.000\n",
      "Degree: 103, cum_count: 2707, cum_freq: 1.000\n",
      "Degree: 104, cum_count: 2707, cum_freq: 1.000\n",
      "Degree: 105, cum_count: 2707, cum_freq: 1.000\n",
      "Degree: 106, cum_count: 2707, cum_freq: 1.000\n",
      "Degree: 107, cum_count: 2707, cum_freq: 1.000\n",
      "Degree: 108, cum_count: 2707, cum_freq: 1.000\n",
      "Degree: 109, cum_count: 2707, cum_freq: 1.000\n",
      "Degree: 110, cum_count: 2707, cum_freq: 1.000\n",
      "Degree: 111, cum_count: 2707, cum_freq: 1.000\n",
      "Degree: 112, cum_count: 2707, cum_freq: 1.000\n",
      "Degree: 113, cum_count: 2707, cum_freq: 1.000\n",
      "Degree: 114, cum_count: 2707, cum_freq: 1.000\n",
      "Degree: 115, cum_count: 2707, cum_freq: 1.000\n",
      "Degree: 116, cum_count: 2707, cum_freq: 1.000\n",
      "Degree: 117, cum_count: 2707, cum_freq: 1.000\n",
      "Degree: 118, cum_count: 2707, cum_freq: 1.000\n",
      "Degree: 119, cum_count: 2707, cum_freq: 1.000\n",
      "Degree: 120, cum_count: 2707, cum_freq: 1.000\n",
      "Degree: 121, cum_count: 2707, cum_freq: 1.000\n",
      "Degree: 122, cum_count: 2707, cum_freq: 1.000\n",
      "Degree: 123, cum_count: 2707, cum_freq: 1.000\n",
      "Degree: 124, cum_count: 2707, cum_freq: 1.000\n",
      "Degree: 125, cum_count: 2707, cum_freq: 1.000\n",
      "Degree: 126, cum_count: 2707, cum_freq: 1.000\n",
      "Degree: 127, cum_count: 2707, cum_freq: 1.000\n",
      "Degree: 128, cum_count: 2707, cum_freq: 1.000\n",
      "Degree: 129, cum_count: 2707, cum_freq: 1.000\n",
      "Degree: 130, cum_count: 2707, cum_freq: 1.000\n",
      "Degree: 131, cum_count: 2707, cum_freq: 1.000\n",
      "Degree: 132, cum_count: 2707, cum_freq: 1.000\n",
      "Degree: 133, cum_count: 2707, cum_freq: 1.000\n",
      "Degree: 134, cum_count: 2707, cum_freq: 1.000\n",
      "Degree: 135, cum_count: 2707, cum_freq: 1.000\n",
      "Degree: 136, cum_count: 2707, cum_freq: 1.000\n",
      "Degree: 137, cum_count: 2707, cum_freq: 1.000\n",
      "Degree: 138, cum_count: 2707, cum_freq: 1.000\n",
      "Degree: 139, cum_count: 2707, cum_freq: 1.000\n",
      "Degree: 140, cum_count: 2707, cum_freq: 1.000\n",
      "Degree: 141, cum_count: 2707, cum_freq: 1.000\n",
      "Degree: 142, cum_count: 2707, cum_freq: 1.000\n",
      "Degree: 143, cum_count: 2707, cum_freq: 1.000\n",
      "Degree: 144, cum_count: 2707, cum_freq: 1.000\n",
      "Degree: 145, cum_count: 2707, cum_freq: 1.000\n",
      "Degree: 146, cum_count: 2707, cum_freq: 1.000\n",
      "Degree: 147, cum_count: 2707, cum_freq: 1.000\n",
      "Degree: 148, cum_count: 2707, cum_freq: 1.000\n",
      "Degree: 149, cum_count: 2707, cum_freq: 1.000\n",
      "Degree: 150, cum_count: 2707, cum_freq: 1.000\n",
      "Degree: 151, cum_count: 2707, cum_freq: 1.000\n",
      "Degree: 152, cum_count: 2707, cum_freq: 1.000\n",
      "Degree: 153, cum_count: 2707, cum_freq: 1.000\n",
      "Degree: 154, cum_count: 2707, cum_freq: 1.000\n",
      "Degree: 155, cum_count: 2707, cum_freq: 1.000\n",
      "Degree: 156, cum_count: 2707, cum_freq: 1.000\n",
      "Degree: 157, cum_count: 2707, cum_freq: 1.000\n",
      "Degree: 158, cum_count: 2707, cum_freq: 1.000\n",
      "Degree: 159, cum_count: 2707, cum_freq: 1.000\n",
      "Degree: 160, cum_count: 2707, cum_freq: 1.000\n",
      "Degree: 161, cum_count: 2707, cum_freq: 1.000\n",
      "Degree: 162, cum_count: 2707, cum_freq: 1.000\n",
      "Degree: 163, cum_count: 2707, cum_freq: 1.000\n",
      "Degree: 164, cum_count: 2707, cum_freq: 1.000\n",
      "Degree: 165, cum_count: 2707, cum_freq: 1.000\n",
      "Degree: 166, cum_count: 2707, cum_freq: 1.000\n",
      "Degree: 167, cum_count: 2707, cum_freq: 1.000\n",
      "Degree: 168, cum_count: 2708, cum_freq: 1.000\n"
     ]
    }
   ],
   "source": [
    "for i,c in enumerate(np.cumsum(np.bincount(D))):\n",
    "    print(\"Degree: {}, cum_count: {}, cum_freq: {:.3f}\".format(i, c, c/len(D)))"
   ]
  },
  {
   "cell_type": "code",
   "execution_count": null,
   "metadata": {
    "collapsed": true
   },
   "outputs": [],
   "source": []
  }
 ],
 "metadata": {
  "anaconda-cloud": {},
  "kernelspec": {
   "display_name": "Python [conda env:python3]",
   "language": "python",
   "name": "conda-env-python3-py"
  },
  "language_info": {
   "codemirror_mode": {
    "name": "ipython",
    "version": 3
   },
   "file_extension": ".py",
   "mimetype": "text/x-python",
   "name": "python",
   "nbconvert_exporter": "python",
   "pygments_lexer": "ipython3",
   "version": "3.5.4"
  },
  "toc": {
   "nav_menu": {},
   "number_sections": true,
   "sideBar": true,
   "skip_h1_title": false,
   "toc_cell": false,
   "toc_position": {},
   "toc_section_display": "block",
   "toc_window_display": false
  }
 },
 "nbformat": 4,
 "nbformat_minor": 1
}
